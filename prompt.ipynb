{
 "cells": [
  {
   "cell_type": "code",
   "execution_count": 1,
   "id": "84acc901-b670-4661-871b-633f6f90f3da",
   "metadata": {},
   "outputs": [],
   "source": [
    "import os\n",
    "os.environ['PIP_CACHE_DIR'] = '/scratch/ola5/cache'\n",
    "os.environ['HF_HOME'] = '/scratch/ola5/cache'"
   ]
  },
  {
   "cell_type": "code",
   "execution_count": 2,
   "id": "622a612a-2897-4565-bc4a-432f532e37d7",
   "metadata": {},
   "outputs": [
    {
     "name": "stdout",
     "output_type": "stream",
     "text": [
      "/scratch/ola5/opensora/Open-Sora-Plan\n"
     ]
    },
    {
     "name": "stderr",
     "output_type": "stream",
     "text": [
      "/scratch/ola5/opensora/lib/python3.10/site-packages/IPython/core/magics/osm.py:417: UserWarning: This is now an optional IPython functionality, setting dhist requires you to install the `pickleshare` library.\n",
      "  self.shell.db['dhist'] = compress_dhist(dhist)[-100:]\n"
     ]
    }
   ],
   "source": [
    "%cd Open-Sora-Plan"
   ]
  },
  {
   "cell_type": "code",
   "execution_count": 3,
   "id": "f29d614e-e14d-4fb2-a271-86b298a8f13f",
   "metadata": {},
   "outputs": [],
   "source": [
    "import torch\n",
    "\n",
    "device = \"cuda\" if torch.cuda.is_available() else \"cpu\"\n",
    "weight_dtype = torch.bfloat16\n",
    "\n",
    "from transformers import T5EncoderModel, MT5EncoderModel, AutoTokenizer"
   ]
  },
  {
   "cell_type": "code",
   "execution_count": 4,
   "id": "3cd1900d-4439-4011-bdde-0aa1eb82dc8e",
   "metadata": {},
   "outputs": [
    {
     "name": "stderr",
     "output_type": "stream",
     "text": [
      "/scratch/ola5/opensora/lib/python3.10/site-packages/torch/_utils.py:831: UserWarning: TypedStorage is deprecated. It will be removed in the future and UntypedStorage will be the only storage class. This should only matter to you if you are using storages directly.  To access UntypedStorage directly, use tensor.untyped_storage() instead of tensor.storage()\n",
      "  return self.fget.__get__(instance, owner)()\n",
      "You are using the default legacy behaviour of the <class 'transformers.models.t5.tokenization_t5.T5Tokenizer'>. This is expected, and simply means that the `legacy` (previous) behavior will be used so nothing changes for you. If you want to use the new behaviour, set `legacy=False`. This should only be set if you understand what it means, and thoroughly read the reason why this was added as explained in https://github.com/huggingface/transformers/pull/24565\n",
      "/scratch/ola5/opensora/lib/python3.10/site-packages/transformers/convert_slow_tokenizer.py:560: UserWarning: The sentencepiece tokenizer that you are converting to a fast tokenizer uses the byte fallback option which is not implemented in the fast tokenizers. In practice this means that the fast version of the tokenizer can produce unknown tokens whereas the sentencepiece version would have converted these unknown tokens into a sequence of byte tokens matching the original piece of text.\n",
      "  warnings.warn(\n"
     ]
    }
   ],
   "source": [
    "text_encoder = MT5EncoderModel.from_pretrained(\"./models/mt5-xxl\", cache_dir='./cache_dir', low_cpu_mem_usage=True, torch_dtype=weight_dtype)\n",
    "tokenizer = AutoTokenizer.from_pretrained(\"./models/mt5-xxl\", cache_dir='./cache_dir')\n",
    "\n",
    "text_encoder.eval()\n",
    "text_encoder = text_encoder.to(device)"
   ]
  },
  {
   "cell_type": "code",
   "execution_count": 5,
   "id": "3b75a961-a900-449a-a4f1-1ff19d7cb84b",
   "metadata": {},
   "outputs": [
    {
     "name": "stdout",
     "output_type": "stream",
     "text": [
      "5655173120\n"
     ]
    }
   ],
   "source": [
    "print(sum(p.numel() for p in text_encoder.parameters()))"
   ]
  },
  {
   "cell_type": "code",
   "execution_count": 6,
   "id": "a2d883af-2f15-461d-a8b9-c37fe85f5ffd",
   "metadata": {},
   "outputs": [],
   "source": [
    "prompt = \"(best quality), (detailed), Daft Punk dining at a fancy restaurant, eating delicious spaghetti from a plate.\"\n",
    "negative_prompt = \"lowres, bad anatomy, cropped, worst quality, low quality, jpeg artifacts, signature, watermark, username, blurry\"\n",
    "max_length = 300\n",
    "num_images_per_prompt = 1\n",
    "dtype = weight_dtype\n",
    "batch_size = 1\n",
    "\n",
    "text_inputs = tokenizer(prompt, padding=\"max_length\", max_length=max_length, truncation=True, add_special_tokens=True, return_tensors=\"pt\")\n",
    "text_input_ids = text_inputs.input_ids\n",
    "\n",
    "prompt_attention_mask = text_inputs.attention_mask\n",
    "prompt_attention_mask = prompt_attention_mask.to(device)\n",
    "\n",
    "prompt_embeds = text_encoder(text_input_ids.to(device), attention_mask=prompt_attention_mask)\n",
    "prompt_embeds = prompt_embeds[0]\n",
    "\n",
    "prompt_embeds = prompt_embeds.to(dtype=text_encoder.dtype, device=device)\n",
    "\n",
    "bs_embed, seq_len, _ = prompt_embeds.shape\n",
    "# duplicate text embeddings and attention mask for each generation per prompt, using mps friendly method\n",
    "prompt_embeds = prompt_embeds.repeat(1, num_images_per_prompt, 1)\n",
    "prompt_embeds = prompt_embeds.view(bs_embed * num_images_per_prompt, seq_len, -1)\n",
    "prompt_attention_mask = prompt_attention_mask.view(bs_embed, -1)\n",
    "prompt_attention_mask = prompt_attention_mask.repeat(num_images_per_prompt, 1)\n",
    "\n",
    "uncond_tokens = [negative_prompt] * 1\n",
    "max_length = prompt_embeds.shape[1]\n",
    "uncond_input = tokenizer(\n",
    "    uncond_tokens,\n",
    "    padding=\"max_length\",\n",
    "    max_length=max_length,\n",
    "    truncation=True,\n",
    "    return_attention_mask=True,\n",
    "    add_special_tokens=True,\n",
    "    return_tensors=\"pt\",\n",
    ")\n",
    "negative_prompt_attention_mask = uncond_input.attention_mask\n",
    "negative_prompt_attention_mask = negative_prompt_attention_mask.to(device)\n",
    "\n",
    "negative_prompt_embeds = text_encoder(\n",
    "    uncond_input.input_ids.to(device), attention_mask=negative_prompt_attention_mask\n",
    ")\n",
    "negative_prompt_embeds = negative_prompt_embeds[0]\n",
    "\n",
    "seq_len = negative_prompt_embeds.shape[1]\n",
    "\n",
    "negative_prompt_embeds = negative_prompt_embeds.to(dtype=dtype, device=device)\n",
    "\n",
    "negative_prompt_embeds = negative_prompt_embeds.repeat(1, num_images_per_prompt, 1)\n",
    "negative_prompt_embeds = negative_prompt_embeds.view(batch_size * num_images_per_prompt, seq_len, -1)\n",
    "\n",
    "negative_prompt_attention_mask = negative_prompt_attention_mask.view(bs_embed, -1)\n",
    "negative_prompt_attention_mask = negative_prompt_attention_mask.repeat(num_images_per_prompt, 1)"
   ]
  },
  {
   "cell_type": "code",
   "execution_count": 7,
   "id": "d36ca6d8-9eb9-4ec7-9550-43a8047ef5c7",
   "metadata": {},
   "outputs": [
    {
     "name": "stdout",
     "output_type": "stream",
     "text": [
      "torch.Size([1, 300, 4096])\n",
      "torch.Size([1, 300])\n",
      "torch.Size([1, 300, 4096])\n",
      "torch.Size([1, 300])\n"
     ]
    }
   ],
   "source": [
    "print(prompt_embeds.shape)\n",
    "print(prompt_attention_mask.shape)\n",
    "print(negative_prompt_embeds.shape)\n",
    "print(negative_prompt_attention_mask.shape)"
   ]
  },
  {
   "cell_type": "code",
   "execution_count": 8,
   "id": "9c24f656-a634-4a17-8397-81b07dc2020f",
   "metadata": {},
   "outputs": [],
   "source": [
    "import pickle\n",
    "prompt_data = (prompt_embeds, prompt_attention_mask, negative_prompt_embeds, negative_prompt_attention_mask)\n",
    "with open('prompt.pkl', 'wb') as f:\n",
    "    pickle.dump(prompt_data, f)"
   ]
  },
  {
   "cell_type": "code",
   "execution_count": 9,
   "id": "109b73c9-d797-4b25-8562-108b8f365ef5",
   "metadata": {},
   "outputs": [
    {
     "name": "stdout",
     "output_type": "stream",
     "text": [
      "torch.Size([1, 300, 4096]) torch.Size([1, 300])\n"
     ]
    }
   ],
   "source": [
    "with open('prompt.pkl', 'rb') as f:\n",
    "    data = pickle.load(f)\n",
    "    print(data[0].shape, data[1].shape)"
   ]
  },
  {
   "cell_type": "code",
   "execution_count": null,
   "id": "b173438a-1efe-43f0-831b-f7e48ba3ecd4",
   "metadata": {},
   "outputs": [],
   "source": []
  }
 ],
 "metadata": {
  "kernelspec": {
   "display_name": "Python 3 (ipykernel)",
   "language": "python",
   "name": "python3"
  },
  "language_info": {
   "codemirror_mode": {
    "name": "ipython",
    "version": 3
   },
   "file_extension": ".py",
   "mimetype": "text/x-python",
   "name": "python",
   "nbconvert_exporter": "python",
   "pygments_lexer": "ipython3",
   "version": "3.10.12"
  }
 },
 "nbformat": 4,
 "nbformat_minor": 5
}
