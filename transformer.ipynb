{
 "cells": [
  {
   "cell_type": "code",
   "execution_count": 1,
   "id": "690fa92b-546b-4e99-bdff-b7afe8241524",
   "metadata": {},
   "outputs": [],
   "source": [
    "import os\n",
    "os.environ['PIP_CACHE_DIR'] = '/scratch/ola5/cache'\n",
    "os.environ['HF_HOME'] = '/scratch/ola5/cache'"
   ]
  },
  {
   "cell_type": "code",
   "execution_count": 2,
   "id": "3de61004-b4b8-403d-8b1c-6c5fb2eae845",
   "metadata": {},
   "outputs": [
    {
     "name": "stdout",
     "output_type": "stream",
     "text": [
      "/scratch/ola5/opensora/Open-Sora-Plan\n"
     ]
    },
    {
     "name": "stderr",
     "output_type": "stream",
     "text": [
      "/scratch/ola5/opensora/lib/python3.10/site-packages/IPython/core/magics/osm.py:417: UserWarning: This is now an optional IPython functionality, setting dhist requires you to install the `pickleshare` library.\n",
      "  self.shell.db['dhist'] = compress_dhist(dhist)[-100:]\n"
     ]
    }
   ],
   "source": [
    "%cd Open-Sora-Plan"
   ]
  },
  {
   "cell_type": "code",
   "execution_count": 3,
   "id": "ab30afac-dac2-4a0f-862e-69fe7674f081",
   "metadata": {},
   "outputs": [
    {
     "name": "stderr",
     "output_type": "stream",
     "text": [
      "/scratch/ola5/opensora/lib/python3.10/site-packages/torchvision/transforms/_functional_video.py:6: UserWarning: The 'torchvision.transforms._functional_video' module is deprecated since 0.12 and will be removed in the future. Please use the 'torchvision.transforms.functional' module instead.\n",
      "  warnings.warn(\n",
      "/scratch/ola5/opensora/lib/python3.10/site-packages/torchvision/transforms/_transforms_video.py:22: UserWarning: The 'torchvision.transforms._transforms_video' module is deprecated since 0.12 and will be removed in the future. Please use the 'torchvision.transforms' module instead.\n",
      "  warnings.warn(\n"
     ]
    },
    {
     "name": "stdout",
     "output_type": "stream",
     "text": [
      "[2024-08-13 01:13:22,742] [INFO] [real_accelerator.py:203:get_accelerator] Setting ds_accelerator to cuda (auto detect)\n",
      "Warning: The default cache directory for DeepSpeed Triton autotune, /home/ola5/.triton/autotune, appears to be on an NFS system. While this is generally acceptable, if you experience slowdowns or hanging when DeepSpeed exits, it is recommended to set the TRITON_CACHE_DIR environment variable to a non-NFS path.\n",
      "\u001b[93m [WARNING] \u001b[0m async_io requires the dev libaio .so object and headers but these were not found.\n",
      "\u001b[93m [WARNING] \u001b[0m async_io: please install the libaio-dev package with apt\n",
      "\u001b[93m [WARNING] \u001b[0m If libaio is already installed (perhaps from source), try setting the CFLAGS and LDFLAGS environment variables to where it can be found.\n",
      "\u001b[93m [WARNING] \u001b[0m Please specify the CUTLASS repo directory as environment variable $CUTLASS_PATH\n"
     ]
    },
    {
     "name": "stderr",
     "output_type": "stream",
     "text": [
      "/usr/bin/ld: cannot find -laio: No such file or directory\n",
      "collect2: error: ld returned 1 exit status\n"
     ]
    },
    {
     "name": "stdout",
     "output_type": "stream",
     "text": [
      "\u001b[93m [WARNING] \u001b[0m sparse_attn requires a torch version >= 1.5 and < 2.0 but detected 2.1\n",
      "\u001b[93m [WARNING] \u001b[0m using untested triton version (2.1.0), only 1.0.0 is known to be compatible\n",
      "The npu_config.on_npu is False\n",
      "pid 25840's current affinity list: 0-31\n",
      "pid 25840's new affinity list: 0-3\n"
     ]
    },
    {
     "name": "stderr",
     "output_type": "stream",
     "text": [
      "/scratch/ola5/opensora/lib/python3.10/site-packages/torchvision/transforms/functional_tensor.py:5: UserWarning: The torchvision.transforms.functional_tensor module is deprecated in 0.15 and will be **removed in 0.17**. Please don't rely on it. You probably just need to use APIs in torchvision.transforms.functional or in torchvision.transforms.v2.functional.\n",
      "  warnings.warn(\n",
      "/scratch/ola5/opensora/lib/python3.10/site-packages/diffusers/models/transformer_2d.py:20: FutureWarning: `Transformer2DModelOutput` is deprecated and will be removed in version 0.29. Importing `Transformer2DModelOutput` from `diffusers.models.transformer_2d` is deprecated and this will be removed in a future version. Please use `from diffusers.models.transformers.transformer_2d import Transformer2DModelOutput`, instead.\n",
      "  deprecate(\"Transformer2DModelOutput\", \"0.29\", deprecation_message)\n",
      "/scratch/ola5/opensora/lib/python3.10/site-packages/diffusers/models/transformer_2d.py:25: FutureWarning: `Transformer2DModel` is deprecated and will be removed in version 0.29. Importing `Transformer2DModel` from `diffusers.models.transformer_2d` is deprecated and this will be removed in a future version. Please use `from diffusers.models.transformers.transformer_2d import Transformer2DModel`, instead.\n",
      "  deprecate(\"Transformer2DModel\", \"0.29\", deprecation_message)\n"
     ]
    }
   ],
   "source": [
    "import torch\n",
    "\n",
    "device = \"cuda\" if torch.cuda.is_available() else \"cpu\"\n",
    "weight_dtype = torch.bfloat16\n",
    "\n",
    "from diffusers.schedulers import DPMSolverMultistepScheduler, EulerAncestralDiscreteScheduler\n",
    "from transformers import T5EncoderModel, MT5EncoderModel, AutoTokenizer\n",
    "\n",
    "from opensora.models.causalvideovae import ae_stride_config, ae_channel_config, ae_norm, ae_denorm, CausalVAEModelWrapper\n",
    "from opensora.models.diffusion.opensora.modeling_opensora import OpenSoraT2V\n",
    "#from opensora.sample.pipeline_opensora import OpenSoraPipeline\n",
    "from opensora.sample.pipeline2 import OpenSoraPipeline\n",
    "\n",
    "import imageio"
   ]
  },
  {
   "cell_type": "code",
   "execution_count": 4,
   "id": "41ce31b5-3e4a-46cf-9140-e2bcc5d537f2",
   "metadata": {},
   "outputs": [
    {
     "name": "stderr",
     "output_type": "stream",
     "text": [
      "The config attributes {'decay': 0.999, 'inv_gamma': 1.0, 'min_decay': 0.0, 'optimization_step': 400, 'power': 0.6666666666666666, 'update_after_step': 0, 'use_ema_warmup': False} were passed to OpenSoraT2V, but are not expected and will be ignored. Please verify your config.json configuration file.\n"
     ]
    }
   ],
   "source": [
    "transformer_model = OpenSoraT2V.from_pretrained(\"./models/93x720p\", cache_dir='./cache_dir', low_cpu_mem_usage=False, device_map=None, torch_dtype=weight_dtype)"
   ]
  },
  {
   "cell_type": "code",
   "execution_count": 5,
   "id": "2a426094-e603-4e89-bb5f-f4ad959ba60a",
   "metadata": {},
   "outputs": [
    {
     "data": {
      "text/plain": [
       "OpenSoraPipeline {\n",
       "  \"_class_name\": \"OpenSoraPipeline\",\n",
       "  \"_diffusers_version\": \"0.28.0\",\n",
       "  \"scheduler\": [\n",
       "    \"diffusers\",\n",
       "    \"EulerAncestralDiscreteScheduler\"\n",
       "  ],\n",
       "  \"transformer\": [\n",
       "    \"opensora.models.diffusion.opensora.modeling_opensora\",\n",
       "    \"OpenSoraT2V\"\n",
       "  ]\n",
       "}"
      ]
     },
     "execution_count": 5,
     "metadata": {},
     "output_type": "execute_result"
    }
   ],
   "source": [
    "transformer_model.eval()\n",
    "scheduler = EulerAncestralDiscreteScheduler()\n",
    "\n",
    "pipeline = OpenSoraPipeline(scheduler=scheduler, transformer=transformer_model)\n",
    "pipeline.to(device)"
   ]
  },
  {
   "cell_type": "code",
   "execution_count": null,
   "id": "247318e7-c1fc-48d7-93aa-831b9263fc5e",
   "metadata": {},
   "outputs": [
    {
     "data": {
      "application/vnd.jupyter.widget-view+json": {
       "model_id": "ba62f2b2e94246d9a107dc9b9fd60d53",
       "version_major": 2,
       "version_minor": 0
      },
      "text/plain": [
       "  0%|          | 0/75 [00:00<?, ?it/s]"
      ]
     },
     "metadata": {},
     "output_type": "display_data"
    }
   ],
   "source": [
    "#positive_prompt = \"\"\"\n",
    "#(masterpiece), (best quality), (ultra-detailed),\n",
    "#{}.\n",
    "#\"\"\"\n",
    "#negative_prompt = \"\"\"\n",
    "#lowres, bad anatomy, cropped, worst quality, low quality, jpeg artifacts, signature, watermark, username, blurry\n",
    "#\"\"\"\n",
    "\n",
    "import pickle\n",
    "with open('prompt.pkl', 'rb') as f:\n",
    "    data = pickle.load(f)\n",
    "\n",
    "num_frames = 93\n",
    "latents = pipeline(\n",
    "    negative_prompt=None,\n",
    "    num_frames=num_frames,\n",
    "    height=720,\n",
    "    width=1280,\n",
    "    num_inference_steps=75,\n",
    "    guidance_scale=7.5,\n",
    "    num_images_per_prompt=1,\n",
    "    device=device,\n",
    "    prompt_embeds=data[0],\n",
    "    prompt_attention_mask=data[1],\n",
    "    negative_prompt_embeds=data[2],\n",
    "    negative_prompt_attention_mask=data[3],\n",
    "    max_sequence_length=300,\n",
    ")"
   ]
  },
  {
   "cell_type": "code",
   "execution_count": 7,
   "id": "46138941-214f-45eb-bff2-9a16ce146518",
   "metadata": {},
   "outputs": [
    {
     "data": {
      "text/plain": [
       "torch.Size([1, 4, 24, 90, 160])"
      ]
     },
     "execution_count": 7,
     "metadata": {},
     "output_type": "execute_result"
    }
   ],
   "source": [
    "latents.shape"
   ]
  },
  {
   "cell_type": "code",
   "execution_count": 8,
   "id": "7b2233ad-c442-47e7-aac9-88bbe75cdeb0",
   "metadata": {},
   "outputs": [],
   "source": [
    "with open('latents.pkl', 'wb') as f:\n",
    "    pickle.dump(latents, f)"
   ]
  },
  {
   "cell_type": "code",
   "execution_count": 9,
   "id": "8b553613-8681-48ea-8128-fc9ab8f2c8ca",
   "metadata": {},
   "outputs": [
    {
     "data": {
      "text/plain": [
       "(torch.bfloat16, device(type='cuda', index=0))"
      ]
     },
     "execution_count": 9,
     "metadata": {},
     "output_type": "execute_result"
    }
   ],
   "source": [
    "latents.dtype, latents.device"
   ]
  },
  {
   "cell_type": "code",
   "execution_count": null,
   "id": "6b277533-813a-4038-b5a7-adab9c626c24",
   "metadata": {},
   "outputs": [],
   "source": []
  }
 ],
 "metadata": {
  "kernelspec": {
   "display_name": "Python 3 (ipykernel)",
   "language": "python",
   "name": "python3"
  },
  "language_info": {
   "codemirror_mode": {
    "name": "ipython",
    "version": 3
   },
   "file_extension": ".py",
   "mimetype": "text/x-python",
   "name": "python",
   "nbconvert_exporter": "python",
   "pygments_lexer": "ipython3",
   "version": "3.10.12"
  }
 },
 "nbformat": 4,
 "nbformat_minor": 5
}
